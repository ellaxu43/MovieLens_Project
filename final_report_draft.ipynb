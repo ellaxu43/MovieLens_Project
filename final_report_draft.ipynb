{
 "cells": [
  {
   "cell_type": "code",
   "execution_count": 1,
   "id": "26f6e838",
   "metadata": {},
   "outputs": [],
   "source": [
    "import pandas as pd\n",
    "import numpy as np\n",
    "import matplotlib.pyplot as plt\n",
    "from statsmodels.formula.api import ols\n",
    "\n",
    "from scipy import stats\n",
    "from sklearn.metrics import mean_squared_error, r2_score, explained_variance_score\n",
    "\n",
    "from sklearn.linear_model import LinearRegression\n",
    "from sklearn.feature_selection import f_regression \n",
    "from math import sqrt\n",
    "import seaborn as sns\n",
    "import warnings\n",
    "warnings.filterwarnings('ignore')\n",
    "import math\n",
    "import dataprep\n",
    "\n",
    "from sklearn.model_selection import train_test_split\n",
    "import sklearn.linear_model\n",
    "import sklearn.feature_selection\n",
    "import sklearn.preprocessing\n",
    "from scipy import stats\n",
    "from sklearn.feature_selection import SelectKBest, RFE, f_regression, SequentialFeatureSelector\n",
    "from sklearn.cluster import KMeans"
   ]
  },
  {
   "cell_type": "markdown",
   "id": "e6c5fdfd",
   "metadata": {},
   "source": [
    "# Predict Movie Ratings And Build Simple Movie Recommandation System"
   ]
  },
  {
   "cell_type": "markdown",
   "id": "421db918",
   "metadata": {},
   "source": [
    "Ella Xu | Codeup Student"
   ]
  },
  {
   "cell_type": "markdown",
   "id": "799bddfc",
   "metadata": {},
   "source": [
    "## Project Description\n",
    "Recommendation systems have revolutionized e-commerce. Companies like Amazon\n",
    "sell all manner of products to their customers and actively collect reviews \n",
    "which are stored in massive databases. Machine learning tools are\n",
    "then used to recommend products across the full range of customers in a tailored\n",
    "and highly specific way. This process enables data driven companies to increase \n",
    "their pool of satisfied returning consumers. This same process is also used \n",
    "to great effect by media companies such as youtube, youtube music and Netflix.\n",
    "\n",
    "In 2006, Netflix issued a challenge to data scientists worldwide. It was quite\n",
    "simple, $1 million dollars would be awarded to the team or individual that could\n",
    "improve the recommendation algorithm by 10%. The winners were announced in 2009."
   ]
  },
  {
   "cell_type": "markdown",
   "id": "17913ab1",
   "metadata": {},
   "source": [
    "## Project Goal"
   ]
  },
  {
   "cell_type": "markdown",
   "id": "bf3d956a",
   "metadata": {},
   "source": [
    "We are accessing the MovieLens dataset which consists of 100k ratings on 3,900 movies from 6,040 MovieLens users. Our goals include predicting movie rating and finding new applications and to movie recommendation systems that more accurately provide personalized content for the modern consumers.Our main objective is to predict movie recommendations using MovieLens data."
   ]
  },
  {
   "cell_type": "markdown",
   "id": "52606b74",
   "metadata": {},
   "source": [
    "# Planning"
   ]
  },
  {
   "cell_type": "markdown",
   "id": "b53ece7c",
   "metadata": {},
   "source": [
    "* Setup my repository environment (.gitignore, README.md)\n",
    "* Import and test my wrangle functions.\n",
    "* Define test for at least two hypotheses.\n",
    "* Explore and create clusters. \n",
    "* Train and evalurate four different regression models.\n",
    "* Report my conclusions and next steps in a presentation.\n"
   ]
  },
  {
   "cell_type": "markdown",
   "id": "bdbc5aa8",
   "metadata": {},
   "source": [
    "## Acquiring the Data\n",
    "To acquire the Movielens data,I downloaded the dataset folder/zip from grouplens.org. There are total of three dataset, I will import functions to join them together as one dataset. https://grouplens.org/datasets/movielens/100k/"
   ]
  },
  {
   "cell_type": "code",
   "execution_count": 2,
   "id": "49c5159f",
   "metadata": {},
   "outputs": [],
   "source": [
    "rating_full, item, user = dataprep.get_movie_data()"
   ]
  },
  {
   "cell_type": "code",
   "execution_count": 3,
   "id": "6992b633",
   "metadata": {},
   "outputs": [
    {
     "data": {
      "text/html": [
       "<div>\n",
       "<style scoped>\n",
       "    .dataframe tbody tr th:only-of-type {\n",
       "        vertical-align: middle;\n",
       "    }\n",
       "\n",
       "    .dataframe tbody tr th {\n",
       "        vertical-align: top;\n",
       "    }\n",
       "\n",
       "    .dataframe thead th {\n",
       "        text-align: right;\n",
       "    }\n",
       "</style>\n",
       "<table border=\"1\" class=\"dataframe\">\n",
       "  <thead>\n",
       "    <tr style=\"text-align: right;\">\n",
       "      <th></th>\n",
       "      <th>user_id</th>\n",
       "      <th>movie_id</th>\n",
       "      <th>rating</th>\n",
       "      <th>unix_timestamp</th>\n",
       "    </tr>\n",
       "  </thead>\n",
       "  <tbody>\n",
       "    <tr>\n",
       "      <th>0</th>\n",
       "      <td>1</td>\n",
       "      <td>1</td>\n",
       "      <td>5</td>\n",
       "      <td>874965758</td>\n",
       "    </tr>\n",
       "    <tr>\n",
       "      <th>1</th>\n",
       "      <td>1</td>\n",
       "      <td>2</td>\n",
       "      <td>3</td>\n",
       "      <td>876893171</td>\n",
       "    </tr>\n",
       "  </tbody>\n",
       "</table>\n",
       "</div>"
      ],
      "text/plain": [
       "   user_id  movie_id  rating  unix_timestamp\n",
       "0        1         1       5       874965758\n",
       "1        1         2       3       876893171"
      ]
     },
     "execution_count": 3,
     "metadata": {},
     "output_type": "execute_result"
    }
   ],
   "source": [
    "rating_full.head(2)"
   ]
  },
  {
   "cell_type": "code",
   "execution_count": 4,
   "id": "27c00256",
   "metadata": {},
   "outputs": [
    {
     "data": {
      "text/html": [
       "<div>\n",
       "<style scoped>\n",
       "    .dataframe tbody tr th:only-of-type {\n",
       "        vertical-align: middle;\n",
       "    }\n",
       "\n",
       "    .dataframe tbody tr th {\n",
       "        vertical-align: top;\n",
       "    }\n",
       "\n",
       "    .dataframe thead th {\n",
       "        text-align: right;\n",
       "    }\n",
       "</style>\n",
       "<table border=\"1\" class=\"dataframe\">\n",
       "  <thead>\n",
       "    <tr style=\"text-align: right;\">\n",
       "      <th></th>\n",
       "      <th>movie id</th>\n",
       "      <th>movie title</th>\n",
       "      <th>release date</th>\n",
       "      <th>video release date</th>\n",
       "      <th>IMDb URL</th>\n",
       "      <th>unknown</th>\n",
       "      <th>Action</th>\n",
       "      <th>Adventure</th>\n",
       "      <th>Animation</th>\n",
       "      <th>Children's</th>\n",
       "      <th>...</th>\n",
       "      <th>Fantasy</th>\n",
       "      <th>Film-Noir</th>\n",
       "      <th>Horror</th>\n",
       "      <th>Musical</th>\n",
       "      <th>Mystery</th>\n",
       "      <th>Romance</th>\n",
       "      <th>Sci-Fi</th>\n",
       "      <th>Thriller</th>\n",
       "      <th>War</th>\n",
       "      <th>Western</th>\n",
       "    </tr>\n",
       "  </thead>\n",
       "  <tbody>\n",
       "    <tr>\n",
       "      <th>0</th>\n",
       "      <td>1</td>\n",
       "      <td>Toy Story (1995)</td>\n",
       "      <td>01-Jan-1995</td>\n",
       "      <td>NaN</td>\n",
       "      <td>http://us.imdb.com/M/title-exact?Toy%20Story%2...</td>\n",
       "      <td>0</td>\n",
       "      <td>0</td>\n",
       "      <td>0</td>\n",
       "      <td>1</td>\n",
       "      <td>1</td>\n",
       "      <td>...</td>\n",
       "      <td>0</td>\n",
       "      <td>0</td>\n",
       "      <td>0</td>\n",
       "      <td>0</td>\n",
       "      <td>0</td>\n",
       "      <td>0</td>\n",
       "      <td>0</td>\n",
       "      <td>0</td>\n",
       "      <td>0</td>\n",
       "      <td>0</td>\n",
       "    </tr>\n",
       "    <tr>\n",
       "      <th>1</th>\n",
       "      <td>2</td>\n",
       "      <td>GoldenEye (1995)</td>\n",
       "      <td>01-Jan-1995</td>\n",
       "      <td>NaN</td>\n",
       "      <td>http://us.imdb.com/M/title-exact?GoldenEye%20(...</td>\n",
       "      <td>0</td>\n",
       "      <td>1</td>\n",
       "      <td>1</td>\n",
       "      <td>0</td>\n",
       "      <td>0</td>\n",
       "      <td>...</td>\n",
       "      <td>0</td>\n",
       "      <td>0</td>\n",
       "      <td>0</td>\n",
       "      <td>0</td>\n",
       "      <td>0</td>\n",
       "      <td>0</td>\n",
       "      <td>0</td>\n",
       "      <td>1</td>\n",
       "      <td>0</td>\n",
       "      <td>0</td>\n",
       "    </tr>\n",
       "  </tbody>\n",
       "</table>\n",
       "<p>2 rows × 24 columns</p>\n",
       "</div>"
      ],
      "text/plain": [
       "   movie id       movie title release date  video release date  \\\n",
       "0         1  Toy Story (1995)  01-Jan-1995                 NaN   \n",
       "1         2  GoldenEye (1995)  01-Jan-1995                 NaN   \n",
       "\n",
       "                                            IMDb URL  unknown  Action  \\\n",
       "0  http://us.imdb.com/M/title-exact?Toy%20Story%2...        0       0   \n",
       "1  http://us.imdb.com/M/title-exact?GoldenEye%20(...        0       1   \n",
       "\n",
       "   Adventure  Animation  Children's  ...  Fantasy  Film-Noir  Horror  Musical  \\\n",
       "0          0          1           1  ...        0          0       0        0   \n",
       "1          1          0           0  ...        0          0       0        0   \n",
       "\n",
       "   Mystery  Romance  Sci-Fi  Thriller  War  Western  \n",
       "0        0        0       0         0    0        0  \n",
       "1        0        0       0         1    0        0  \n",
       "\n",
       "[2 rows x 24 columns]"
      ]
     },
     "execution_count": 4,
     "metadata": {},
     "output_type": "execute_result"
    }
   ],
   "source": [
    "item.head(2)"
   ]
  },
  {
   "cell_type": "code",
   "execution_count": 5,
   "id": "0db8b48a",
   "metadata": {},
   "outputs": [
    {
     "data": {
      "text/html": [
       "<div>\n",
       "<style scoped>\n",
       "    .dataframe tbody tr th:only-of-type {\n",
       "        vertical-align: middle;\n",
       "    }\n",
       "\n",
       "    .dataframe tbody tr th {\n",
       "        vertical-align: top;\n",
       "    }\n",
       "\n",
       "    .dataframe thead th {\n",
       "        text-align: right;\n",
       "    }\n",
       "</style>\n",
       "<table border=\"1\" class=\"dataframe\">\n",
       "  <thead>\n",
       "    <tr style=\"text-align: right;\">\n",
       "      <th></th>\n",
       "      <th>user id</th>\n",
       "      <th>age</th>\n",
       "      <th>gender</th>\n",
       "      <th>occupation</th>\n",
       "      <th>zip code</th>\n",
       "    </tr>\n",
       "  </thead>\n",
       "  <tbody>\n",
       "    <tr>\n",
       "      <th>0</th>\n",
       "      <td>1</td>\n",
       "      <td>24</td>\n",
       "      <td>M</td>\n",
       "      <td>technician</td>\n",
       "      <td>85711</td>\n",
       "    </tr>\n",
       "    <tr>\n",
       "      <th>1</th>\n",
       "      <td>2</td>\n",
       "      <td>53</td>\n",
       "      <td>F</td>\n",
       "      <td>other</td>\n",
       "      <td>94043</td>\n",
       "    </tr>\n",
       "  </tbody>\n",
       "</table>\n",
       "</div>"
      ],
      "text/plain": [
       "   user id  age gender  occupation zip code\n",
       "0        1   24      M  technician    85711\n",
       "1        2   53      F       other    94043"
      ]
     },
     "execution_count": 5,
     "metadata": {},
     "output_type": "execute_result"
    }
   ],
   "source": [
    "user.head(2)"
   ]
  },
  {
   "cell_type": "markdown",
   "id": "8fd72a57",
   "metadata": {},
   "source": [
    "## Cleaning the Data"
   ]
  },
  {
   "cell_type": "markdown",
   "id": "ae82e0f3",
   "metadata": {},
   "source": [
    "* Merge three tables. \n",
    "\n",
    "* Replace nulls with median values for select columns.\n",
    "\n",
    "* Drop the user that watched less than 20 movies. \n",
    "\n",
    "* Drop duplicates columns after merging. \n",
    "\n",
    "* Replace nulls with median values for select columns.\n",
    "\n",
    "* Rename columns to make it easy to read. \n",
    "\n",
    "* Split the data 80/20 train test. 70/30 on train validate split."
   ]
  },
  {
   "cell_type": "code",
   "execution_count": 6,
   "id": "51c113c1",
   "metadata": {},
   "outputs": [],
   "source": [
    "full_rating = dataprep.wrangle_movie()"
   ]
  },
  {
   "cell_type": "code",
   "execution_count": 7,
   "id": "e68707a9",
   "metadata": {},
   "outputs": [
    {
     "data": {
      "text/html": [
       "<div>\n",
       "<style scoped>\n",
       "    .dataframe tbody tr th:only-of-type {\n",
       "        vertical-align: middle;\n",
       "    }\n",
       "\n",
       "    .dataframe tbody tr th {\n",
       "        vertical-align: top;\n",
       "    }\n",
       "\n",
       "    .dataframe thead th {\n",
       "        text-align: right;\n",
       "    }\n",
       "</style>\n",
       "<table border=\"1\" class=\"dataframe\">\n",
       "  <thead>\n",
       "    <tr style=\"text-align: right;\">\n",
       "      <th></th>\n",
       "      <th>user_id</th>\n",
       "      <th>movie_id</th>\n",
       "      <th>rating</th>\n",
       "      <th>age</th>\n",
       "      <th>gender</th>\n",
       "      <th>occupation</th>\n",
       "      <th>zip code</th>\n",
       "      <th>movie_title</th>\n",
       "      <th>release_date</th>\n",
       "      <th>action</th>\n",
       "      <th>...</th>\n",
       "      <th>fantasy</th>\n",
       "      <th>film-noir</th>\n",
       "      <th>horror</th>\n",
       "      <th>musical</th>\n",
       "      <th>mystery</th>\n",
       "      <th>romance</th>\n",
       "      <th>sci-fi</th>\n",
       "      <th>thriller</th>\n",
       "      <th>war</th>\n",
       "      <th>western</th>\n",
       "    </tr>\n",
       "  </thead>\n",
       "  <tbody>\n",
       "    <tr>\n",
       "      <th>0</th>\n",
       "      <td>1</td>\n",
       "      <td>1</td>\n",
       "      <td>5</td>\n",
       "      <td>24</td>\n",
       "      <td>0</td>\n",
       "      <td>technician</td>\n",
       "      <td>85711</td>\n",
       "      <td>Toy Story (1995)</td>\n",
       "      <td>1995-01-01</td>\n",
       "      <td>0</td>\n",
       "      <td>...</td>\n",
       "      <td>0</td>\n",
       "      <td>0</td>\n",
       "      <td>0</td>\n",
       "      <td>0</td>\n",
       "      <td>0</td>\n",
       "      <td>0</td>\n",
       "      <td>0</td>\n",
       "      <td>0</td>\n",
       "      <td>0</td>\n",
       "      <td>0</td>\n",
       "    </tr>\n",
       "    <tr>\n",
       "      <th>1</th>\n",
       "      <td>2</td>\n",
       "      <td>1</td>\n",
       "      <td>4</td>\n",
       "      <td>53</td>\n",
       "      <td>1</td>\n",
       "      <td>other</td>\n",
       "      <td>94043</td>\n",
       "      <td>Toy Story (1995)</td>\n",
       "      <td>1995-01-01</td>\n",
       "      <td>0</td>\n",
       "      <td>...</td>\n",
       "      <td>0</td>\n",
       "      <td>0</td>\n",
       "      <td>0</td>\n",
       "      <td>0</td>\n",
       "      <td>0</td>\n",
       "      <td>0</td>\n",
       "      <td>0</td>\n",
       "      <td>0</td>\n",
       "      <td>0</td>\n",
       "      <td>0</td>\n",
       "    </tr>\n",
       "  </tbody>\n",
       "</table>\n",
       "<p>2 rows × 27 columns</p>\n",
       "</div>"
      ],
      "text/plain": [
       "   user_id  movie_id  rating  age  gender  occupation zip code  \\\n",
       "0        1         1       5   24       0  technician    85711   \n",
       "1        2         1       4   53       1       other    94043   \n",
       "\n",
       "        movie_title release_date  action  ...  fantasy  film-noir  horror  \\\n",
       "0  Toy Story (1995)   1995-01-01       0  ...        0          0       0   \n",
       "1  Toy Story (1995)   1995-01-01       0  ...        0          0       0   \n",
       "\n",
       "   musical  mystery  romance  sci-fi  thriller  war  western  \n",
       "0        0        0        0       0         0    0        0  \n",
       "1        0        0        0       0         0    0        0  \n",
       "\n",
       "[2 rows x 27 columns]"
      ]
     },
     "execution_count": 7,
     "metadata": {},
     "output_type": "execute_result"
    }
   ],
   "source": [
    "full_rating.head(2)"
   ]
  },
  {
   "cell_type": "code",
   "execution_count": 8,
   "id": "15049d4a",
   "metadata": {},
   "outputs": [
    {
     "name": "stdout",
     "output_type": "stream",
     "text": [
      "<class 'pandas.core.frame.DataFrame'>\n",
      "Int64Index: 99990 entries, 0 to 99999\n",
      "Data columns (total 27 columns):\n",
      " #   Column        Non-Null Count  Dtype         \n",
      "---  ------        --------------  -----         \n",
      " 0   user_id       99990 non-null  int64         \n",
      " 1   movie_id      99990 non-null  int64         \n",
      " 2   rating        99990 non-null  int64         \n",
      " 3   age           99990 non-null  int64         \n",
      " 4   gender        99990 non-null  int64         \n",
      " 5   occupation    99990 non-null  object        \n",
      " 6   zip code      99990 non-null  object        \n",
      " 7   movie_title   99990 non-null  object        \n",
      " 8   release_date  99990 non-null  datetime64[ns]\n",
      " 9   action        99990 non-null  int64         \n",
      " 10  adventure     99990 non-null  int64         \n",
      " 11  animation     99990 non-null  int64         \n",
      " 12  children      99990 non-null  int64         \n",
      " 13  comedy        99990 non-null  int64         \n",
      " 14  crime         99990 non-null  int64         \n",
      " 15  documentary   99990 non-null  int64         \n",
      " 16  drama         99990 non-null  int64         \n",
      " 17  fantasy       99990 non-null  int64         \n",
      " 18  film-noir     99990 non-null  int64         \n",
      " 19  horror        99990 non-null  int64         \n",
      " 20  musical       99990 non-null  int64         \n",
      " 21  mystery       99990 non-null  int64         \n",
      " 22  romance       99990 non-null  int64         \n",
      " 23  sci-fi        99990 non-null  int64         \n",
      " 24  thriller      99990 non-null  int64         \n",
      " 25  war           99990 non-null  int64         \n",
      " 26  western       99990 non-null  int64         \n",
      "dtypes: datetime64[ns](1), int64(23), object(3)\n",
      "memory usage: 21.4+ MB\n"
     ]
    }
   ],
   "source": [
    "full_rating.info()"
   ]
  },
  {
   "cell_type": "code",
   "execution_count": 9,
   "id": "7d50f84a",
   "metadata": {},
   "outputs": [],
   "source": [
    "train_validate, test = train_test_split(full_rating, test_size=.2, random_state=123)\n",
    "#split the train, validate and test data.\n",
    "train, validate = train_test_split(train_validate, test_size=.3, random_state=123)    "
   ]
  },
  {
   "cell_type": "markdown",
   "id": "7a9a813a",
   "metadata": {},
   "source": [
    "## Explore the Train dataset\n",
    "### Initial Questions:\n",
    "\n"
   ]
  },
  {
   "cell_type": "markdown",
   "id": "8a0e25d0",
   "metadata": {},
   "source": [
    "### What are the most rated movies? "
   ]
  },
  {
   "cell_type": "code",
   "execution_count": 12,
   "id": "d9548a07",
   "metadata": {},
   "outputs": [
    {
     "data": {
      "text/plain": [
       "movie_title\n",
       "Star Wars (1977)                 324\n",
       "Contact (1997)                   278\n",
       "English Patient, The (1996)      275\n",
       "Scream (1996)                    272\n",
       "Fargo (1996)                     270\n",
       "Return of the Jedi (1983)        269\n",
       "Liar Liar (1997)                 268\n",
       "Air Force One (1997)             264\n",
       "Toy Story (1995)                 250\n",
       "Independence Day (ID4) (1996)    245\n",
       "dtype: int64"
      ]
     },
     "execution_count": 12,
     "metadata": {},
     "output_type": "execute_result"
    }
   ],
   "source": [
    "most_rated = train.groupby('movie_title').size().sort_values(ascending=False)\n",
    "most_rated.head(10)"
   ]
  },
  {
   "cell_type": "markdown",
   "id": "14f89f05",
   "metadata": {},
   "source": [
    "***Takeaways: The top three most rated movies are star wars, contact and english patient. There is only one movie rated more than 300 times, which is starwar.***"
   ]
  },
  {
   "cell_type": "markdown",
   "id": "860eb150",
   "metadata": {},
   "source": [
    "### What are the Top rated movies? "
   ]
  },
  {
   "cell_type": "code",
   "execution_count": 26,
   "id": "b3718ef6",
   "metadata": {},
   "outputs": [
    {
     "data": {
      "text/plain": [
       "movie_title\n",
       "Aiqing wansui (1994)                                      5.000000\n",
       "Hugo Pool (1997)                                          5.000000\n",
       "Entertaining Angels: The Dorothy Day Story (1996)         5.000000\n",
       "Santa with Muscles (1996)                                 5.000000\n",
       "Some Mother's Son (1996)                                  5.000000\n",
       "Tough and Deadly (1995)                                   5.000000\n",
       "Lamerica (1994)                                           5.000000\n",
       "They Made Me a Criminal (1939)                            5.000000\n",
       "Visitors, The (Visiteurs, Les) (1993)                     5.000000\n",
       "Delta of Venus (1994)                                     5.000000\n",
       "Saint of Fort Washington, The (1993)                      5.000000\n",
       "Maya Lin: A Strong Clear Vision (1994)                    5.000000\n",
       "Total Eclipse (1995)                                      5.000000\n",
       "Prefontaine (1997)                                        5.000000\n",
       "Wedding Gift, The (1994)                                  5.000000\n",
       "Star Kid (1997)                                           5.000000\n",
       "Bitter Sugar (Azucar Amargo) (1996)                       5.000000\n",
       "Braindead (1992)                                          4.714286\n",
       "Mina Tannenbaum (1994)                                    4.666667\n",
       "Wallace & Gromit: The Best of Aardman Animation (1996)    4.575000\n",
       "Name: rating, dtype: float64"
      ]
     },
     "execution_count": 26,
     "metadata": {},
     "output_type": "execute_result"
    }
   ],
   "source": [
    "top_rated = train.groupby('movie_title')['rating'].mean()\n",
    "top_rated.sort_values(ascending=False).head(20)"
   ]
  },
  {
   "cell_type": "markdown",
   "id": "d831e52e",
   "metadata": {},
   "source": [
    "***Takeaways: There are some movie recieved the highest rating as the mean rating*** "
   ]
  },
  {
   "cell_type": "markdown",
   "id": "166dbea2",
   "metadata": {},
   "source": [
    "### Distribution of rating for each genre? "
   ]
  },
  {
   "cell_type": "code",
   "execution_count": 30,
   "id": "df132693",
   "metadata": {},
   "outputs": [
    {
     "data": {
      "text/plain": [
       "drama        15315\n",
       "action       14214\n",
       "comedy       12763\n",
       "crime         2774\n",
       "adventure     1911\n",
       "Name: genre_name, dtype: int64"
      ]
     },
     "execution_count": 30,
     "metadata": {},
     "output_type": "execute_result"
    }
   ],
   "source": [
    "subset = train[['action', 'adventure',\n",
    "       'animation', 'children', 'comedy', 'crime', 'documentary', 'drama',\n",
    "       'fantasy', 'film-noir', 'horror', 'musical', 'mystery', 'romance',\n",
    "       'sci-fi', 'thriller', 'war', 'western']]\n",
    "def get_values(row):\n",
    "       for c in subset.columns:\n",
    "              if row[c]==1:\n",
    "                       return c\n",
    "\n",
    "genre = subset.apply(get_values, axis=1)\n",
    "genre = pd.DataFrame(genre)\n",
    "train[['genre_name']] = genre\n",
    "train.genre_name.value_counts().head()"
   ]
  },
  {
   "cell_type": "markdown",
   "id": "401d6b6b",
   "metadata": {},
   "source": [
    "***Top five most popular genre are drama, action, comedy, crime and adventure.***"
   ]
  },
  {
   "cell_type": "code",
   "execution_count": 32,
   "id": "9596f304",
   "metadata": {},
   "outputs": [
    {
     "data": {
      "image/png": "[encoded data removed]",
      "text/plain": [
       "<Figure size 1440x936 with 1 Axes>"
      ]
     },
     "metadata": {
      "needs_background": "light"
     },
     "output_type": "display_data"
    }
   ],
   "source": [
    "plt.figure(1, figsize=(20,13))\n",
    "sns.barplot(x=\"genre_name\",y ='rating', data=train,\n",
    "                 palette=\"Blues_d\", order=train.genre_name.value_counts().index)\n",
    "plt.xticks(rotation=75, fontsize = 15)\n",
    "plt.yticks(fontsize = 15)\n",
    "plt.ylim(3,4.2)\n",
    "plt.xlabel('Genre', fontsize = 20)\n",
    "\n",
    "plt.title(\"Avg Rating for each genre\", fontsize = 20)\n",
    "plt.ylabel('Avg Rating(3+)', fontsize = 20)\n",
    "plt.grid()"
   ]
  },
  {
   "cell_type": "markdown",
   "id": "3523a1b6",
   "metadata": {},
   "source": [
    "***Takeaways: War and fantasy has lowest avg ratings. Horror movies are also have a relative low average rating.***"
   ]
  },
  {
   "cell_type": "markdown",
   "id": "e1770e91",
   "metadata": {},
   "source": [
    "### Distribution of gender? "
   ]
  },
  {
   "cell_type": "code",
   "execution_count": 12,
   "id": "cf35b16f",
   "metadata": {},
   "outputs": [
    {
     "data": {
      "image/png": "[encoded data removed]",
      "text/plain": [
       "<Figure size 432x288 with 1 Axes>"
      ]
     },
     "metadata": {},
     "output_type": "display_data"
    }
   ],
   "source": [
    "data = [(train.gender.value_counts())[1], (train.gender.value_counts())[0]]\n",
    "labels = ['Female', 'Male']\n",
    "colors = sns.color_palette('Paired')\n",
    "explode = [0.05,0.02]\n",
    "plt.pie(data, labels=labels,colors = colors, autopct = '%0.0f%%',\n",
    "        textprops = {'color': 'Black','fontsize':16},explode = explode)\n",
    "figsize=(10,10)\n",
    "plt.title(\"Distribution Between Female and Male.\")\n",
    "plt.show()"
   ]
  },
  {
   "cell_type": "markdown",
   "id": "30bf7cb7",
   "metadata": {},
   "source": [
    "***Takeaways: From this dataset, the population of male are female are very unbalance. Only 1/4 of the population are females. Males watches more movies in this story.***"
   ]
  },
  {
   "cell_type": "code",
   "execution_count": 24,
   "id": "8cb46e3d",
   "metadata": {},
   "outputs": [],
   "source": [
    "import dexplot as dxp"
   ]
  },
  {
   "cell_type": "code",
   "execution_count": 25,
   "id": "c5688100",
   "metadata": {},
   "outputs": [
    {
     "data": {
      "image/png": "[encoded data removed]",
      "text/plain": [
       "<Figure size 449.28x316.8 with 1 Axes>"
      ]
     },
     "execution_count": 25,
     "metadata": {},
     "output_type": "execute_result"
    }
   ],
   "source": [
    "dxp.count('rating', split = 'gender',data=train,normalize ='gender', title=\"Does gender impact ratings?\")"
   ]
  },
  {
   "cell_type": "markdown",
   "id": "3d40df2e",
   "metadata": {},
   "source": [
    "***Takeaways: Even there are more males than females but the proportion shows around the same, means the rating distribution are among genders and about the same.***"
   ]
  },
  {
   "cell_type": "markdown",
   "id": "3caf7038",
   "metadata": {},
   "source": [
    "### Distribution of occupation?"
   ]
  },
  {
   "cell_type": "code",
   "execution_count": 28,
   "id": "eeedc1b2",
   "metadata": {},
   "outputs": [
    {
     "data": {
      "text/plain": [
       "Text(0, 0.5, 'Frequency')"
      ]
     },
     "execution_count": 28,
     "metadata": {},
     "output_type": "execute_result"
    },
    {
     "data": {
      "image/png": "[encoded data removed]",
      "text/plain": [
       "<Figure size 1440x936 with 1 Axes>"
      ]
     },
     "metadata": {
      "needs_background": "light"
     },
     "output_type": "display_data"
    }
   ],
   "source": [
    "plt.figure(1, figsize=(20,13))\n",
    "sns.countplot(x=\"occupation\", data=train,order = train.occupation.value_counts().index)\n",
    "plt.xticks(rotation=75, fontsize = 20)\n",
    "plt.yticks(fontsize = 15)\n",
    "plt.xlabel('Occupation', fontsize = 20)\n",
    "plt.grid()\n",
    "plt.title(\"Distribution of Occupation\", fontsize = 20)\n",
    "plt.ylabel('Frequency', fontsize = 20)"
   ]
  },
  {
   "cell_type": "markdown",
   "id": "4cdd4cb3",
   "metadata": {},
   "source": [
    "***We have students as our biggest group of customer and audience.***"
   ]
  },
  {
   "cell_type": "markdown",
   "id": "73b61abc",
   "metadata": {},
   "source": [
    "### Age distribution? \n",
    "### Does age impact rating? "
   ]
  },
  {
   "cell_type": "code",
   "execution_count": 18,
   "id": "1b469e10",
   "metadata": {},
   "outputs": [
    {
     "data": {
      "text/plain": [
       "<AxesSubplot:xlabel='age', ylabel='Count'>"
      ]
     },
     "execution_count": 18,
     "metadata": {},
     "output_type": "execute_result"
    },
    {
     "data": {
      "image/png": "[encoded data removed]",
      "text/plain": [
       "<Figure size 432x288 with 1 Axes>"
      ]
     },
     "metadata": {
      "needs_background": "light"
     },
     "output_type": "display_data"
    }
   ],
   "source": [
    "sns.histplot(data=train, x=\"age\", bins = 10, kde=True)"
   ]
  },
  {
   "cell_type": "markdown",
   "id": "1c5e99ea",
   "metadata": {},
   "source": [
    "***Takeaways: from this chart above, 20-30 age group watched the most movies in this dataset.***"
   ]
  },
  {
   "cell_type": "code",
   "execution_count": 20,
   "id": "49dd6109",
   "metadata": {},
   "outputs": [
    {
     "data": {
      "text/plain": [
       "<AxesSubplot:xlabel='age', ylabel='rating'>"
      ]
     },
     "execution_count": 20,
     "metadata": {},
     "output_type": "execute_result"
    },
    {
     "data": {
      "image/png": "[encoded data removed]",
      "text/plain": [
       "<Figure size 432x288 with 2 Axes>"
      ]
     },
     "metadata": {
      "needs_background": "light"
     },
     "output_type": "display_data"
    }
   ],
   "source": [
    "sns.histplot(\n",
    "    train, x=\"age\", y=\"rating\",\n",
    "    bins=5, discrete=(False, True), log_scale=(False, False),pthresh=.05, pmax=.9,cbar=True\n",
    ")"
   ]
  },
  {
   "cell_type": "code",
   "execution_count": null,
   "id": "9393bb4c",
   "metadata": {},
   "outputs": [],
   "source": [
    "Anova test: "
   ]
  },
  {
   "cell_type": "markdown",
   "id": "509e4b17",
   "metadata": {},
   "source": [
    "### Does year released date impact rating? "
   ]
  },
  {
   "cell_type": "code",
   "execution_count": 60,
   "id": "3e5fca17",
   "metadata": {},
   "outputs": [],
   "source": [
    "train['year'] = pd.DatetimeIndex(train['release_date']).year\n",
    "# Create a subset before 1960 and after 1960"
   ]
  },
  {
   "cell_type": "code",
   "execution_count": 46,
   "id": "3aa066f3",
   "metadata": {},
   "outputs": [],
   "source": [
    "year_1980_earlier = train[train['release_date']<=\"1980-01-01\"].rating"
   ]
  },
  {
   "cell_type": "code",
   "execution_count": 44,
   "id": "56ca26d0",
   "metadata": {},
   "outputs": [],
   "source": [
    "year_1980_after=train[train['release_date']>\"1980-01-01\"].rating"
   ]
  },
  {
   "cell_type": "code",
   "execution_count": 49,
   "id": "9a5781dd",
   "metadata": {},
   "outputs": [
    {
     "name": "stdout",
     "output_type": "stream",
     "text": [
      "We reject the null hypothesis\n"
     ]
    }
   ],
   "source": [
    "# Perform a t test becuase we are comparsing two means,\n",
    "# This is a two-sampled, two-tailed test.\n",
    "alpha = 0.05\n",
    "t, p = stats.ttest_ind(year_1980_earlier,year_1980_after, equal_var=False )\n",
    "t, p\n",
    "\n",
    "if p < alpha:\n",
    "    print(\"We reject the null hypothesis\")\n",
    "\n",
    "else:\n",
    "    print(\"We fail to reject the null hypothesis\")"
   ]
  },
  {
   "cell_type": "markdown",
   "id": "cf0735b1",
   "metadata": {},
   "source": [
    "***From this test, we have the confident to say that year of release impact the rating for movie.***"
   ]
  },
  {
   "cell_type": "code",
   "execution_count": 92,
   "id": "2a62a907",
   "metadata": {},
   "outputs": [
    {
     "data": {
      "image/png": "[encoded data removed]",
      "text/plain": [
       "<Figure size 864x504 with 1 Axes>"
      ]
     },
     "metadata": {
      "needs_background": "light"
     },
     "output_type": "display_data"
    }
   ],
   "source": [
    "#Plot data and a linear regression model fit the area and logerror. \n",
    "plt.figure(figsize=(12,7))#set up the figure size.\n",
    "sns.regplot(x='year', y=\"rating\", data=a)\n",
    "# regplot can use on continuous feature by creating couple bins, \n",
    "#CI is  Size of the confidence interval for the regression estimate.I set to 80%, just to take a look the overall trend. \n",
    "plt.xlabel('Year')# set up the x axis. \n",
    "plt.ylabel('Rating')# set up the y axis\n",
    "plt.title('Does the year of release impact rating?',fontsize=15) # set up the title and fontsize. \n",
    "mean1 = train.rating.mean()# draw the mean of the logerror. \n",
    "plt.axhline(mean1, ls='--', color='red')#set the color to red, and line style. \n",
    "plt.show()"
   ]
  },
  {
   "cell_type": "markdown",
   "id": "daeee397",
   "metadata": {},
   "source": [
    "***Takeaways: The regression plot has show that younger movie tend to have a lower rating.***"
   ]
  },
  {
   "cell_type": "markdown",
   "id": "0ef90a8a",
   "metadata": {},
   "source": [
    "### Main Takeaways From Exploration:\n",
    "* \n",
    "* \n",
    "* \n",
    "* \n"
   ]
  },
  {
   "cell_type": "markdown",
   "id": "781c691d",
   "metadata": {},
   "source": [
    "## Prep Data for Modeling"
   ]
  },
  {
   "cell_type": "markdown",
   "id": "b4b54fe2",
   "metadata": {},
   "source": [
    "### Our goal is create a model than can predict movie rating that can helps with building a movie recommandations system later on. \n",
    "To predict the mean rating for each movie, first we will need to aggragate all columns to get a mean value, such as mean rating, mean age of the reviewers for each movie, genre for each movie and use these features to predict a movie's mean rating.\n",
    "\n",
    "The features we are going to use in the model are rating times, mean reviewer's age and genre. "
   ]
  },
  {
   "cell_type": "code",
   "execution_count": 10,
   "id": "fb1091ea",
   "metadata": {},
   "outputs": [],
   "source": [
    "df = dataprep.prep_movie_rating()"
   ]
  },
  {
   "cell_type": "code",
   "execution_count": 11,
   "id": "7c021c7e",
   "metadata": {},
   "outputs": [
    {
     "data": {
      "text/html": [
       "<div>\n",
       "<style scoped>\n",
       "    .dataframe tbody tr th:only-of-type {\n",
       "        vertical-align: middle;\n",
       "    }\n",
       "\n",
       "    .dataframe tbody tr th {\n",
       "        vertical-align: top;\n",
       "    }\n",
       "\n",
       "    .dataframe thead th {\n",
       "        text-align: right;\n",
       "    }\n",
       "</style>\n",
       "<table border=\"1\" class=\"dataframe\">\n",
       "  <thead>\n",
       "    <tr style=\"text-align: right;\">\n",
       "      <th></th>\n",
       "      <th>rating_times</th>\n",
       "      <th>mean_rating</th>\n",
       "      <th>mean_age</th>\n",
       "      <th>action</th>\n",
       "      <th>adventure</th>\n",
       "      <th>animation</th>\n",
       "      <th>children</th>\n",
       "      <th>comedy</th>\n",
       "      <th>crime</th>\n",
       "      <th>documentary</th>\n",
       "      <th>...</th>\n",
       "      <th>fantasy</th>\n",
       "      <th>film-noir</th>\n",
       "      <th>horror</th>\n",
       "      <th>musical</th>\n",
       "      <th>mystery</th>\n",
       "      <th>romance</th>\n",
       "      <th>sci-fi</th>\n",
       "      <th>thriller</th>\n",
       "      <th>war</th>\n",
       "      <th>western</th>\n",
       "    </tr>\n",
       "    <tr>\n",
       "      <th>movie_title</th>\n",
       "      <th></th>\n",
       "      <th></th>\n",
       "      <th></th>\n",
       "      <th></th>\n",
       "      <th></th>\n",
       "      <th></th>\n",
       "      <th></th>\n",
       "      <th></th>\n",
       "      <th></th>\n",
       "      <th></th>\n",
       "      <th></th>\n",
       "      <th></th>\n",
       "      <th></th>\n",
       "      <th></th>\n",
       "      <th></th>\n",
       "      <th></th>\n",
       "      <th></th>\n",
       "      <th></th>\n",
       "      <th></th>\n",
       "      <th></th>\n",
       "      <th></th>\n",
       "    </tr>\n",
       "  </thead>\n",
       "  <tbody>\n",
       "    <tr>\n",
       "      <th>'Til There Was You (1997)</th>\n",
       "      <td>9</td>\n",
       "      <td>2.333333</td>\n",
       "      <td>24.666667</td>\n",
       "      <td>0</td>\n",
       "      <td>0</td>\n",
       "      <td>0</td>\n",
       "      <td>0</td>\n",
       "      <td>0</td>\n",
       "      <td>0</td>\n",
       "      <td>0</td>\n",
       "      <td>...</td>\n",
       "      <td>0</td>\n",
       "      <td>0</td>\n",
       "      <td>0</td>\n",
       "      <td>0</td>\n",
       "      <td>0</td>\n",
       "      <td>1</td>\n",
       "      <td>0</td>\n",
       "      <td>0</td>\n",
       "      <td>0</td>\n",
       "      <td>0</td>\n",
       "    </tr>\n",
       "    <tr>\n",
       "      <th>1-900 (1994)</th>\n",
       "      <td>5</td>\n",
       "      <td>2.600000</td>\n",
       "      <td>31.000000</td>\n",
       "      <td>0</td>\n",
       "      <td>0</td>\n",
       "      <td>0</td>\n",
       "      <td>0</td>\n",
       "      <td>0</td>\n",
       "      <td>0</td>\n",
       "      <td>0</td>\n",
       "      <td>...</td>\n",
       "      <td>0</td>\n",
       "      <td>0</td>\n",
       "      <td>0</td>\n",
       "      <td>0</td>\n",
       "      <td>0</td>\n",
       "      <td>1</td>\n",
       "      <td>0</td>\n",
       "      <td>0</td>\n",
       "      <td>0</td>\n",
       "      <td>0</td>\n",
       "    </tr>\n",
       "    <tr>\n",
       "      <th>101 Dalmatians (1996)</th>\n",
       "      <td>109</td>\n",
       "      <td>2.908257</td>\n",
       "      <td>32.431193</td>\n",
       "      <td>0</td>\n",
       "      <td>0</td>\n",
       "      <td>0</td>\n",
       "      <td>1</td>\n",
       "      <td>1</td>\n",
       "      <td>0</td>\n",
       "      <td>0</td>\n",
       "      <td>...</td>\n",
       "      <td>0</td>\n",
       "      <td>0</td>\n",
       "      <td>0</td>\n",
       "      <td>0</td>\n",
       "      <td>0</td>\n",
       "      <td>0</td>\n",
       "      <td>0</td>\n",
       "      <td>0</td>\n",
       "      <td>0</td>\n",
       "      <td>0</td>\n",
       "    </tr>\n",
       "    <tr>\n",
       "      <th>12 Angry Men (1957)</th>\n",
       "      <td>125</td>\n",
       "      <td>4.344000</td>\n",
       "      <td>35.184000</td>\n",
       "      <td>0</td>\n",
       "      <td>0</td>\n",
       "      <td>0</td>\n",
       "      <td>0</td>\n",
       "      <td>0</td>\n",
       "      <td>0</td>\n",
       "      <td>0</td>\n",
       "      <td>...</td>\n",
       "      <td>0</td>\n",
       "      <td>0</td>\n",
       "      <td>0</td>\n",
       "      <td>0</td>\n",
       "      <td>0</td>\n",
       "      <td>0</td>\n",
       "      <td>0</td>\n",
       "      <td>0</td>\n",
       "      <td>0</td>\n",
       "      <td>0</td>\n",
       "    </tr>\n",
       "    <tr>\n",
       "      <th>187 (1997)</th>\n",
       "      <td>41</td>\n",
       "      <td>3.024390</td>\n",
       "      <td>29.146341</td>\n",
       "      <td>0</td>\n",
       "      <td>0</td>\n",
       "      <td>0</td>\n",
       "      <td>0</td>\n",
       "      <td>0</td>\n",
       "      <td>0</td>\n",
       "      <td>0</td>\n",
       "      <td>...</td>\n",
       "      <td>0</td>\n",
       "      <td>0</td>\n",
       "      <td>0</td>\n",
       "      <td>0</td>\n",
       "      <td>0</td>\n",
       "      <td>0</td>\n",
       "      <td>0</td>\n",
       "      <td>0</td>\n",
       "      <td>0</td>\n",
       "      <td>0</td>\n",
       "    </tr>\n",
       "  </tbody>\n",
       "</table>\n",
       "<p>5 rows × 21 columns</p>\n",
       "</div>"
      ],
      "text/plain": [
       "                           rating_times  mean_rating   mean_age  action  \\\n",
       "movie_title                                                               \n",
       "'Til There Was You (1997)             9     2.333333  24.666667       0   \n",
       "1-900 (1994)                          5     2.600000  31.000000       0   \n",
       "101 Dalmatians (1996)               109     2.908257  32.431193       0   \n",
       "12 Angry Men (1957)                 125     4.344000  35.184000       0   \n",
       "187 (1997)                           41     3.024390  29.146341       0   \n",
       "\n",
       "                           adventure  animation  children  comedy  crime  \\\n",
       "movie_title                                                                \n",
       "'Til There Was You (1997)          0          0         0       0      0   \n",
       "1-900 (1994)                       0          0         0       0      0   \n",
       "101 Dalmatians (1996)              0          0         1       1      0   \n",
       "12 Angry Men (1957)                0          0         0       0      0   \n",
       "187 (1997)                         0          0         0       0      0   \n",
       "\n",
       "                           documentary  ...  fantasy  film-noir  horror  \\\n",
       "movie_title                             ...                               \n",
       "'Til There Was You (1997)            0  ...        0          0       0   \n",
       "1-900 (1994)                         0  ...        0          0       0   \n",
       "101 Dalmatians (1996)                0  ...        0          0       0   \n",
       "12 Angry Men (1957)                  0  ...        0          0       0   \n",
       "187 (1997)                           0  ...        0          0       0   \n",
       "\n",
       "                           musical  mystery  romance  sci-fi  thriller  war  \\\n",
       "movie_title                                                                   \n",
       "'Til There Was You (1997)        0        0        1       0         0    0   \n",
       "1-900 (1994)                     0        0        1       0         0    0   \n",
       "101 Dalmatians (1996)            0        0        0       0         0    0   \n",
       "12 Angry Men (1957)              0        0        0       0         0    0   \n",
       "187 (1997)                       0        0        0       0         0    0   \n",
       "\n",
       "                           western  \n",
       "movie_title                         \n",
       "'Til There Was You (1997)        0  \n",
       "1-900 (1994)                     0  \n",
       "101 Dalmatians (1996)            0  \n",
       "12 Angry Men (1957)              0  \n",
       "187 (1997)                       0  \n",
       "\n",
       "[5 rows x 21 columns]"
      ]
     },
     "execution_count": 11,
     "metadata": {},
     "output_type": "execute_result"
    }
   ],
   "source": [
    "df.head()"
   ]
  },
  {
   "cell_type": "code",
   "execution_count": 13,
   "id": "636ee78c",
   "metadata": {},
   "outputs": [],
   "source": [
    "train_validate, test = train_test_split(df, test_size=.2, random_state=123)\n",
    "train, validate = train_test_split(train_validate, test_size=.3, random_state=123)    "
   ]
  },
  {
   "cell_type": "code",
   "execution_count": 15,
   "id": "122f005c",
   "metadata": {},
   "outputs": [],
   "source": [
    "X_train = train.drop(columns=['mean_rating'])\n",
    "#Drop the tax_value because tax_value is our target variable. \n",
    "#Drop the county because I already hot encoded them. \n",
    "#Drop county_LA_county because, I encoded all county, even drop one columns make no difference. \n",
    "#Drop year_built because I created home age, and I can scale the home easier. \n",
    "X_validate = validate.drop(columns=['mean_rating'])\n",
    "#duplicate the process on validate and test. \n",
    "X_test = test.drop(columns=['mean_rating'])\n",
    "\n",
    "y_train = train[['mean_rating']]\n",
    "#y_train only contains tax_value \n",
    "y_validate = validate[['mean_rating']]\n",
    "#y_validate only contains tax_value \n",
    "y_test = test[['mean_rating']]\n",
    "##y_test only contains tax_value "
   ]
  },
  {
   "cell_type": "code",
   "execution_count": 16,
   "id": "502b4110",
   "metadata": {},
   "outputs": [
    {
     "data": {
      "text/html": [
       "<div>\n",
       "<style scoped>\n",
       "    .dataframe tbody tr th:only-of-type {\n",
       "        vertical-align: middle;\n",
       "    }\n",
       "\n",
       "    .dataframe tbody tr th {\n",
       "        vertical-align: top;\n",
       "    }\n",
       "\n",
       "    .dataframe thead th {\n",
       "        text-align: right;\n",
       "    }\n",
       "</style>\n",
       "<table border=\"1\" class=\"dataframe\">\n",
       "  <thead>\n",
       "    <tr style=\"text-align: right;\">\n",
       "      <th></th>\n",
       "      <th>model</th>\n",
       "      <th>RMSE_train</th>\n",
       "      <th>RMSE_validate</th>\n",
       "    </tr>\n",
       "  </thead>\n",
       "  <tbody>\n",
       "    <tr>\n",
       "      <th>0</th>\n",
       "      <td>Baseline</td>\n",
       "      <td>0.767898</td>\n",
       "      <td>0.767711</td>\n",
       "    </tr>\n",
       "  </tbody>\n",
       "</table>\n",
       "</div>"
      ],
      "text/plain": [
       "      model  RMSE_train  RMSE_validate\n",
       "0  Baseline    0.767898       0.767711"
      ]
     },
     "execution_count": 16,
     "metadata": {},
     "output_type": "execute_result"
    }
   ],
   "source": [
    "\n",
    "# We need y_train and y_validate to be dataframes to append the new columns with predicted values. \n",
    "y_train = pd.DataFrame(y_train)\n",
    "y_validate = pd.DataFrame(y_validate)\n",
    "\n",
    "# The Project specs told us to use mean for our baseline\n",
    "# 1. Predict logerror using mean\n",
    "rating_mean = y_train.mean_rating.mean()\n",
    "\n",
    "y_train['rating_mean'] = rating_mean\n",
    "y_validate['rating_mean'] = rating_mean\n",
    "\n",
    "# 2. RMSE of tax_value_pred_mean\n",
    "rmse_train = mean_squared_error(y_train.mean_rating, y_train.rating_mean) ** (0.5)\n",
    "rmse_validate = mean_squared_error(y_validate.mean_rating, y_validate.rating_mean) ** (0.5)\n",
    "\n",
    "#create a dataframe, input the result. \n",
    "metric_df = pd.DataFrame(data=[\n",
    "            {\n",
    "                'model': 'Baseline', \n",
    "                'RMSE_train': rmse_train,\n",
    "                'RMSE_validate': rmse_validate\n",
    "                }\n",
    "            ])\n",
    "metric_df #show the dataframe. "
   ]
  },
  {
   "cell_type": "code",
   "execution_count": 17,
   "id": "e9b44629",
   "metadata": {},
   "outputs": [
    {
     "name": "stdout",
     "output_type": "stream",
     "text": [
      "RMSE for OLS using LinearRegression\n",
      "Training/In-Sample:  0.5973491924635767 \n",
      "Validation/Out-of-Sample:  0.6309443432267122\n"
     ]
    }
   ],
   "source": [
    "#let's create a linear regression first. \n",
    "lm2 = LinearRegression()\n",
    "lm2.fit(X_train, y_train.mean_rating)\n",
    "# predict train\n",
    "# \n",
    "# use the thing!\n",
    "# \n",
    "y_train['OLS'] = lm2.predict(X_train)\n",
    "# evaluate: rmse\n",
    "rmse_train = mean_squared_error(y_train.mean_rating, y_train.OLS) ** (1/2)\n",
    "\n",
    "# predict validate\n",
    "y_validate['OLS'] = lm2.predict(X_validate)\n",
    "\n",
    "# evaluate: rmse\n",
    "rmse_validate = mean_squared_error(y_validate.mean_rating, y_validate.OLS) ** (1/2)\n",
    "\n",
    "print(\"RMSE for OLS using LinearRegression\\nTraining/In-Sample: \", rmse_train, \n",
    "      \"\\nValidation/Out-of-Sample: \", rmse_validate)"
   ]
  },
  {
   "cell_type": "code",
   "execution_count": null,
   "id": "396d45b3",
   "metadata": {},
   "outputs": [],
   "source": []
  },
  {
   "cell_type": "code",
   "execution_count": 27,
   "id": "cc856213",
   "metadata": {},
   "outputs": [
    {
     "name": "stdout",
     "output_type": "stream",
     "text": [
      "RMSE for  RandomForestRegressor Model, degrees=2\n",
      "Training/In-Sample:  0.48190299255877694 \n",
      "Validation/Out-of-Sample:  0.5785424917656173\n"
     ]
    }
   ],
   "source": [
    "from sklearn.ensemble import RandomForestRegressor\n",
    "#lastly, let's try random forest regressor. \n",
    "#Random forest is an ensemble learning algorithm \n",
    "#based on decision tree learners. \n",
    "#The estimator fits multiple decision trees on randomly \n",
    "#extracted subsets from the dataset and averages their prediction.\n",
    "\n",
    "rfr = RandomForestRegressor(n_estimators=100, max_depth=5)\n",
    "# To avoid overfitting, use 100 as estimators and max_depth 7. \n",
    "rfr.fit(X_train, y_train.mean_rating)\n",
    "\n",
    "#fit the thing!\n",
    "\n",
    "y_train['rfr'] = rfr.predict(X_train)\n",
    "# Use the thing to predict \n",
    "rmse_train = mean_squared_error(y_train.mean_rating, y_train.rfr) ** (1/2)\n",
    "#get the train rmse.\n",
    "y_validate['rfr'] = rfr.predict(X_validate)\n",
    "#predict on validate. \n",
    "rmse_validate = mean_squared_error(y_validate.mean_rating, y_validate['rfr']) ** (1/2)\n",
    "#get the validate rmse. \n",
    "print(\"RMSE for  RandomForestRegressor Model, degrees=2\\nTraining/In-Sample: \", rmse_train, \n",
    "      \"\\nValidation/Out-of-Sample: \", rmse_validate)"
   ]
  },
  {
   "cell_type": "code",
   "execution_count": null,
   "id": "5971f57b",
   "metadata": {},
   "outputs": [],
   "source": []
  }
 ],
 "metadata": {
  "kernelspec": {
   "display_name": "Python 3 (ipykernel)",
   "language": "python",
   "name": "python3"
  },
  "language_info": {
   "codemirror_mode": {
    "name": "ipython",
    "version": 3
   },
   "file_extension": ".py",
   "mimetype": "text/x-python",
   "name": "python",
   "nbconvert_exporter": "python",
   "pygments_lexer": "ipython3",
   "version": "3.9.7"
  }
 },
 "nbformat": 4,
 "nbformat_minor": 5
}
